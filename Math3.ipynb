{
 "cells": [
  {
   "cell_type": "code",
   "execution_count": null,
   "metadata": {},
   "outputs": [],
   "source": [
    "# Task 1\n",
    "\n",
    "# 1 \n",
    "# Последовательность монотонна, потому что разница функции постоянно возрастает и стремится к бесконечности\n",
    "# Последовательность ограниченна снизу, принадлежит интервалу [1; +inf)\n",
    "# 5-й член = 27\n",
    "\n",
    "# 2\n",
    "# Последовательность монотонна, потому что функция постоянно возрастает стремится к нулю\n",
    "# Последовательность ограничена с обеих сторон, принадлежит интервалу [-1; 0)\n",
    "# 5-й член = -0.2\n",
    "\n",
    "# 3\n",
    "# Последовательность не является монотонной, потому что кажлый её элемент, то выше, то ниже предыдущего\n",
    "# Последовательность ограничена снизу, принадлежит интервалу [2**(1/2); +inf)\n",
    "# 5-й член = 10**(1/2) - 1 ~ 2.16\n",
    "\n",
    "# 4\n",
    "# Последовательность является монотонной, потому что постоянно убывает\n",
    "# Последовательность ограничена с двух сторон, принадлежит интервалу (1; 2]\n",
    "# 5-й член = 1.04\n"
   ]
  },
  {
   "cell_type": "code",
   "execution_count": 3,
   "metadata": {},
   "outputs": [
    {
     "ename": "SyntaxError",
     "evalue": "cannot assign to operator (<ipython-input-3-966cab3fa8c1>, line 5)",
     "output_type": "error",
     "traceback": [
      "\u001b[1;36m  File \u001b[1;32m\"<ipython-input-3-966cab3fa8c1>\"\u001b[1;36m, line \u001b[1;32m5\u001b[0m\n\u001b[1;33m    a(n+1) - a(n) = 6\u001b[0m\n\u001b[1;37m    ^\u001b[0m\n\u001b[1;31mSyntaxError\u001b[0m\u001b[1;31m:\u001b[0m cannot assign to operator\n"
     ]
    }
   ],
   "source": [
    "# Task 2\n",
    "\n",
    "a(1) = 128\n",
    "\n",
    "a(n+1) - a(n) = 6\n",
    "\n",
    "a(12) = 128 + 6 * 12 = 200"
   ]
  },
  {
   "cell_type": "code",
   "execution_count": 1,
   "metadata": {},
   "outputs": [
    {
     "data": {
      "text/latex": [
       "$\\displaystyle 2.71828182845905$"
      ],
      "text/plain": [
       "2.71828182845905"
      ]
     },
     "execution_count": 1,
     "metadata": {},
     "output_type": "execute_result"
    }
   ],
   "source": [
    "import math\n",
    "from sympy import limit \n",
    "\n",
    "# Упростим функцию с помощью формулы Стерлинга: n/((n!)^(1/n)) = n / ((2пn)^(1/2) * (n/e)^n)^(1/n) = e / (2пn)^(1/2n)\n",
    "\n",
    "n = float(math.inf)\n",
    "\n",
    "try:\n",
    "    y = math.e / math.pow((2 * math.pi * n), 1 / (2 * n))\n",
    "except ZeroDivisionError:\n",
    "    y = 0\n",
    "    \n",
    "\n",
    "limit(y, 1, math.inf)"
   ]
  }
 ],
 "metadata": {
  "kernelspec": {
   "display_name": "Python 3",
   "language": "python",
   "name": "python3"
  },
  "language_info": {
   "codemirror_mode": {
    "name": "ipython",
    "version": 3
   },
   "file_extension": ".py",
   "mimetype": "text/x-python",
   "name": "python",
   "nbconvert_exporter": "python",
   "pygments_lexer": "ipython3",
   "version": "3.8.5"
  }
 },
 "nbformat": 4,
 "nbformat_minor": 4
}
